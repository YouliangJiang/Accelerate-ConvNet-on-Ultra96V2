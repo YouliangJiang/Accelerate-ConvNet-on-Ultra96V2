{
 "cells": [
  {
   "cell_type": "code",
   "execution_count": null,
   "metadata": {},
   "outputs": [],
   "source": [
    "import sys\n",
    "import os\n",
    "import math\n",
    "import time\n",
    "import numpy as np\n",
    "from PIL import Image\n",
    "import cv2\n",
    "import pynq\n",
    "import scipy.misc\n",
    "from IPython.display import display"
   ]
  },
  {
   "cell_type": "code",
   "execution_count": null,
   "metadata": {},
   "outputs": [],
   "source": [
    "overlay = pynq.Overlay('ConvNet.bit')\n",
    "dma = overlay.axi_dma_0\n",
    "xlnk = pynq.Xlnk()\n",
    "nn_ctrl = overlay.convnet_0"
   ]
  },
  {
   "cell_type": "code",
   "execution_count": null,
   "metadata": {},
   "outputs": [],
   "source": [
    "img = cv2.imread(\"image_1042.jpg\")\n",
    "img = cv2.cvtColor(img, cv2.COLOR_BGR2RGB)\n",
    "img = cv2.resize(img, (160, 160))\n",
    "display(scipy.misc.toimage(img ))"
   ]
  },
  {
   "cell_type": "code",
   "execution_count": null,
   "metadata": {},
   "outputs": [],
   "source": [
    "in_buffer = xlnk.cma_array(shape=(160, 160, 3), dtype=np.uint8, cacheable=1)    \n",
    "out_buffer = xlnk.cma_array(shape=(16), dtype=np.int32, cacheable=1) "
   ]
  },
  {
   "cell_type": "code",
   "execution_count": null,
   "metadata": {},
   "outputs": [],
   "source": [
    "def net(in_buffer, out_buffer):\n",
    "    nn_ctrl.write(0x0, 0) # Reset\n",
    "    nn_ctrl.write(0x10, 1)#reps\n",
    "    nn_ctrl.write(0x0, 1) # Deassert reset\n",
    "    dma.recvchannel.transfer(out_buffer)\n",
    "    dma.sendchannel.transfer(in_buffer)      \n",
    "    dma.sendchannel.wait()\n",
    "    dma.recvchannel.wait()"
   ]
  },
  {
   "cell_type": "code",
   "execution_count": null,
   "metadata": {},
   "outputs": [],
   "source": [
    "start = time.time()\n",
    "in_buffer[:] = img\n",
    "net(in_buffer, out_buffer)\n",
    "end = time.time()\n",
    "result = out_buffer\n",
    "result = result.tolist()\n",
    "max_index = result.index(max(result))\n",
    "print(result)\n",
    "print(max_index)"
   ]
  },
  {
   "cell_type": "code",
   "execution_count": null,
   "metadata": {},
   "outputs": [],
   "source": [
    "total_time = end - start\n",
    "print(\"Total time:\", total_time, \"seconds\")\n",
    "print('fps: {} .'.format(1 / total_time))"
   ]
  }
 ],
 "metadata": {
  "kernelspec": {
   "display_name": "Python 3",
   "language": "python",
   "name": "python3"
  },
  "language_info": {
   "codemirror_mode": {
    "name": "ipython",
    "version": 3
   },
   "file_extension": ".py",
   "mimetype": "text/x-python",
   "name": "python",
   "nbconvert_exporter": "python",
   "pygments_lexer": "ipython3",
   "version": "3.8.3"
  }
 },
 "nbformat": 4,
 "nbformat_minor": 4
}
